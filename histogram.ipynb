{
 "cells": [
  {
   "cell_type": "code",
   "execution_count": 1,
   "metadata": {
    "collapsed": true,
    "deletable": true,
    "editable": true
   },
   "outputs": [],
   "source": [
    "import requests"
   ]
  },
  {
   "cell_type": "code",
   "execution_count": 2,
   "metadata": {
    "collapsed": false,
    "deletable": true,
    "editable": true
   },
   "outputs": [
    {
     "data": {
      "text/plain": [
       "{'data': {'result': [{'metric': {'le': '0.5'},\n",
       "    'value': [1511418800.623, '7303.6174024464035']},\n",
       "   {'metric': {'le': '5'}, 'value': [1511418800.623, '7484.631590365571']},\n",
       "   {'metric': {'le': '7.5'}, 'value': [1511418800.623, '7487.682391285557']},\n",
       "   {'metric': {'le': '0.25'}, 'value': [1511418800.623, '7028.0283860076715']},\n",
       "   {'metric': {'le': '+Inf'}, 'value': [1511418800.623, '7487.682391285557']},\n",
       "   {'metric': {'le': '0.05'}, 'value': [1511418800.623, '5259.580786055806']},\n",
       "   {'metric': {'le': '0.005'}, 'value': [1511418800.623, '1120.660871274845']},\n",
       "   {'metric': {'le': '0.01'}, 'value': [1511418800.623, '2172.1702550300083']},\n",
       "   {'metric': {'le': '0.075'},\n",
       "    'value': [1511418800.623, '5900.2489792528595']},\n",
       "   {'metric': {'le': '0.025'}, 'value': [1511418800.623, '3936.550120421892']},\n",
       "   {'metric': {'le': '0.1'}, 'value': [1511418800.623, '6295.83616521104']},\n",
       "   {'metric': {'le': '0.75'}, 'value': [1511418800.623, '7394.124496405987']},\n",
       "   {'metric': {'le': '10'}, 'value': [1511418800.623, '7487.682391285557']},\n",
       "   {'metric': {'le': '1'}, 'value': [1511418800.623, '7432.76797472581']},\n",
       "   {'metric': {'le': '2.5'}, 'value': [1511418800.623, '7474.4622539656175']}],\n",
       "  'resultType': 'vector'},\n",
       " 'status': 'success'}"
      ]
     },
     "execution_count": 2,
     "metadata": {},
     "output_type": "execute_result"
    }
   ],
   "source": [
    "query = 'sum(increase(http_request_duration_seconds_bucket{path=\"/ping\", code=\"200\"}[10m])) by (le)'\n",
    "resp = requests.get('http://localhost:9090/api/v1/query', params={'query': query})\n",
    "data = resp.json()\n",
    "data"
   ]
  },
  {
   "cell_type": "code",
   "execution_count": 3,
   "metadata": {
    "collapsed": false,
    "deletable": true,
    "editable": true
   },
   "outputs": [
    {
     "data": {
      "text/plain": [
       "[(0.005, 1120.660871274845),\n",
       " (0.01, 2172.1702550300083),\n",
       " (0.025, 3936.550120421892),\n",
       " (0.05, 5259.580786055806),\n",
       " (0.075, 5900.2489792528595),\n",
       " (0.1, 6295.83616521104),\n",
       " (0.25, 7028.0283860076715),\n",
       " (0.5, 7303.6174024464035),\n",
       " (0.75, 7394.124496405987),\n",
       " (1.0, 7432.76797472581),\n",
       " (2.5, 7474.4622539656175),\n",
       " (5.0, 7484.631590365571),\n",
       " (7.5, 7487.682391285557),\n",
       " (10.0, 7487.682391285557),\n",
       " (inf, 7487.682391285557)]"
      ]
     },
     "execution_count": 3,
     "metadata": {},
     "output_type": "execute_result"
    }
   ],
   "source": [
    "buckets = sorted([(float(m['metric']['le']), float(m['value'][1])) for m in data['data']['result']])\n",
    "buckets"
   ]
  },
  {
   "cell_type": "code",
   "execution_count": 4,
   "metadata": {
    "collapsed": false,
    "deletable": true,
    "editable": true
   },
   "outputs": [
    {
     "data": {
      "text/plain": [
       "[(0.005, 1120.660871274845),\n",
       " (0.01, 1051.5093837551633),\n",
       " (0.025, 1764.3798653918839),\n",
       " (0.05, 1323.030665633914),\n",
       " (0.075, 640.6681931970534),\n",
       " (0.1, 395.58718595818027),\n",
       " (0.25, 732.1922207966318),\n",
       " (0.5, 275.58901643873196),\n",
       " (0.75, 90.50709395958347),\n",
       " (1.0, 38.64347831982286),\n",
       " (2.5, 41.694279239807656),\n",
       " (5.0, 10.169336399953863),\n",
       " (7.5, 3.0508009199857042),\n",
       " (10.0, 0.0),\n",
       " (inf, 0.0)]"
      ]
     },
     "execution_count": 4,
     "metadata": {},
     "output_type": "execute_result"
    }
   ],
   "source": [
    "bucket_counts = []\n",
    "for idx, bucket in enumerate(buckets):\n",
    "    if idx > 0:\n",
    "        count = bucket[1] - buckets[idx - 1][1]\n",
    "    else:\n",
    "        count = bucket[1]\n",
    "    bucket_counts.append((bucket[0], count))\n",
    "bucket_counts"
   ]
  },
  {
   "cell_type": "code",
   "execution_count": 5,
   "metadata": {
    "collapsed": false,
    "deletable": true,
    "editable": true
   },
   "outputs": [
    {
     "name": "stdout",
     "output_type": "stream",
     "text": [
      " 0.000 -  0.005: ▇▇▇▇▇▇▇▇▇▇▇▇▇▇▇▇▇▇▇▇▇▇▇▇▇▇▇▇▇▇▇▇▇▇▇▇▇▇▇▇▇▇▇▇▇▇▇▇▇▇\n",
      " 0.005 -  0.010: ▇▇▇▇▇▇▇▇▇▇▇▇▇▇▇▇▇▇▇▇▇▇▇▇▇▇▇▇▇▇▇▇▇▇▇▇▇▇▇▇▇▇▇▇▇▇▇\n",
      " 0.010 -  0.025: ▇▇▇▇▇▇▇▇▇▇▇▇▇▇▇▇▇▇▇▇▇▇▇▇▇▇▇▇▇▇▇▇▇▇▇▇▇▇▇▇▇▇▇▇▇▇▇▇▇▇▇▇▇▇▇▇▇▇▇▇▇▇▇▇▇▇▇▇▇▇▇▇▇▇▇▇▇▇▇▇\n",
      " 0.025 -  0.050: ▇▇▇▇▇▇▇▇▇▇▇▇▇▇▇▇▇▇▇▇▇▇▇▇▇▇▇▇▇▇▇▇▇▇▇▇▇▇▇▇▇▇▇▇▇▇▇▇▇▇▇▇▇▇▇▇▇▇▇\n",
      " 0.050 -  0.075: ▇▇▇▇▇▇▇▇▇▇▇▇▇▇▇▇▇▇▇▇▇▇▇▇▇▇▇▇▇\n",
      " 0.075 -  0.100: ▇▇▇▇▇▇▇▇▇▇▇▇▇▇▇▇▇\n",
      " 0.100 -  0.250: ▇▇▇▇▇▇▇▇▇▇▇▇▇▇▇▇▇▇▇▇▇▇▇▇▇▇▇▇▇▇▇▇▇\n",
      " 0.250 -  0.500: ▇▇▇▇▇▇▇▇▇▇▇▇\n",
      " 0.500 -  0.750: ▇▇▇▇\n",
      " 0.750 -  1.000: ▇\n",
      " 1.000 -  2.500: ▇\n",
      " 2.500 -  5.000: ▏\n",
      " 5.000 -  7.500: ▏\n",
      " 7.500 - 10.000: \n",
      "10.000 -    inf: \n"
     ]
    }
   ],
   "source": [
    "max_width = 80\n",
    "block_value = max(b[1] for b in bucket_counts) / max_width\n",
    "prev_bound = 0.0\n",
    "for bound, count in bucket_counts:\n",
    "    bar = int(count / block_value) * '▇'\n",
    "    if count > 0 and not bar:\n",
    "        bar = '▏' # tiny block to indicate non-zero value\n",
    "    print('{:6.3f} - {:6.3f}: {}'.format(prev_bound, bound, bar))\n",
    "    prev_bound = bound"
   ]
  },
  {
   "cell_type": "code",
   "execution_count": null,
   "metadata": {
    "collapsed": true,
    "deletable": true,
    "editable": true
   },
   "outputs": [],
   "source": []
  }
 ],
 "metadata": {
  "kernelspec": {
   "display_name": "Python 3",
   "language": "python",
   "name": "python3"
  },
  "language_info": {
   "codemirror_mode": {
    "name": "ipython",
    "version": 3
   },
   "file_extension": ".py",
   "mimetype": "text/x-python",
   "name": "python",
   "nbconvert_exporter": "python",
   "pygments_lexer": "ipython3",
   "version": "3.6.0"
  }
 },
 "nbformat": 4,
 "nbformat_minor": 2
}
