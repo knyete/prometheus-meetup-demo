{
 "cells": [
  {
   "cell_type": "code",
   "execution_count": 1,
   "metadata": {
    "collapsed": true,
    "deletable": true,
    "editable": true
   },
   "outputs": [],
   "source": [
    "import requests"
   ]
  },
  {
   "cell_type": "code",
   "execution_count": 2,
   "metadata": {
    "collapsed": false,
    "deletable": true,
    "editable": true
   },
   "outputs": [
    {
     "data": {
      "text/plain": [
       "{'data': {'result': [{'metric': {'le': '1'},\n",
       "    'value': [1511418451.539, '7524.304755189762']},\n",
       "   {'metric': {'le': '2.5'}, 'value': [1511418451.539, '7567.016040460469']},\n",
       "   {'metric': {'le': '5'}, 'value': [1511418451.539, '7576.1684587327645']},\n",
       "   {'metric': {'le': '0.75'}, 'value': [1511418451.539, '7485.661211373406']},\n",
       "   {'metric': {'le': '0.075'}, 'value': [1511418451.539, '5971.444454990442']},\n",
       "   {'metric': {'le': '0.25'}, 'value': [1511418451.539, '7124.649157299564']},\n",
       "   {'metric': {'le': '+Inf'}, 'value': [1511418451.539, '7578.202329459941']},\n",
       "   {'metric': {'le': '10'}, 'value': [1511418451.539, '7578.202329459941']},\n",
       "   {'metric': {'le': '0.01'}, 'value': [1511418451.539, '2172.1739366245884']},\n",
       "   {'metric': {'le': '0.025'},\n",
       "    'value': [1511418451.539, '3978.2511423573924']},\n",
       "   {'metric': {'le': '0.1'}, 'value': [1511418451.539, '6338.558121245815']},\n",
       "   {'metric': {'le': '0.05'}, 'value': [1511418451.539, '5342.978400292878']},\n",
       "   {'metric': {'le': '0.005'}, 'value': [1511418451.539, '1127.781318219414']},\n",
       "   {'metric': {'le': '0.5'}, 'value': [1511418451.539, '7388.035416468931']},\n",
       "   {'metric': {'le': '7.5'}, 'value': [1511418451.539, '7577.185394096353']}],\n",
       "  'resultType': 'vector'},\n",
       " 'status': 'success'}"
      ]
     },
     "execution_count": 2,
     "metadata": {},
     "output_type": "execute_result"
    }
   ],
   "source": [
    "query = 'sum(increase(http_request_duration_seconds_bucket{path=\"/ping\", code=\"200\"}[10m])) by (le)'\n",
    "resp = requests.get('http://localhost:9090/api/v1/query', params={'query': query})\n",
    "data = resp.json()\n",
    "data"
   ]
  },
  {
   "cell_type": "code",
   "execution_count": 3,
   "metadata": {
    "collapsed": false,
    "deletable": true,
    "editable": true
   },
   "outputs": [
    {
     "data": {
      "text/plain": [
       "[(0.005, 1127.781318219414),\n",
       " (0.01, 2172.1739366245884),\n",
       " (0.025, 3978.2511423573924),\n",
       " (0.05, 5342.978400292878),\n",
       " (0.075, 5971.444454990442),\n",
       " (0.1, 6338.558121245815),\n",
       " (0.25, 7124.649157299564),\n",
       " (0.5, 7388.035416468931),\n",
       " (0.75, 7485.661211373406),\n",
       " (1.0, 7524.304755189762),\n",
       " (2.5, 7567.016040460469),\n",
       " (5.0, 7576.1684587327645),\n",
       " (7.5, 7577.185394096353),\n",
       " (10.0, 7578.202329459941),\n",
       " (inf, 7578.202329459941)]"
      ]
     },
     "execution_count": 3,
     "metadata": {},
     "output_type": "execute_result"
    }
   ],
   "source": [
    "buckets = sorted([(float(m['metric']['le']), float(m['value'][1])) for m in data['data']['result']])\n",
    "buckets"
   ]
  },
  {
   "cell_type": "code",
   "execution_count": 4,
   "metadata": {
    "collapsed": false,
    "deletable": true,
    "editable": true
   },
   "outputs": [
    {
     "data": {
      "text/plain": [
       "[(0.005, 1127.781318219414),\n",
       " (0.01, 1044.3926184051743),\n",
       " (0.025, 1806.077205732804),\n",
       " (0.05, 1364.7272579354858),\n",
       " (0.075, 628.4660546975638),\n",
       " (0.1, 367.11366625537266),\n",
       " (0.25, 786.0910360537491),\n",
       " (0.5, 263.3862591693669),\n",
       " (0.75, 97.6257949044757),\n",
       " (1.0, 38.643543816355304),\n",
       " (2.5, 42.711285270707776),\n",
       " (5.0, 9.152418272295108),\n",
       " (7.5, 1.0169353635883454),\n",
       " (10.0, 1.0169353635883454),\n",
       " (inf, 0.0)]"
      ]
     },
     "execution_count": 4,
     "metadata": {},
     "output_type": "execute_result"
    }
   ],
   "source": [
    "bucket_counts = []\n",
    "for idx, bucket in enumerate(buckets):\n",
    "    if idx > 0:\n",
    "        count = bucket[1] - buckets[idx - 1][1]\n",
    "    else:\n",
    "        count = bucket[1]\n",
    "    bucket_counts.append((bucket[0], count))\n",
    "bucket_counts"
   ]
  },
  {
   "cell_type": "code",
   "execution_count": 5,
   "metadata": {
    "collapsed": false,
    "deletable": true,
    "editable": true
   },
   "outputs": [
    {
     "name": "stdout",
     "output_type": "stream",
     "text": [
      " 0.000 -  0.005: ▇▇▇▇▇▇▇▇▇▇▇▇▇▇▇▇▇▇▇▇▇▇▇▇▇▇▇▇▇▇▇▇▇▇▇▇▇▇▇▇▇▇▇▇▇▇▇▇▇▇▇▇▇▇▇▇▇▇▇▇▇▇\n",
      " 0.005 -  0.010: ▇▇▇▇▇▇▇▇▇▇▇▇▇▇▇▇▇▇▇▇▇▇▇▇▇▇▇▇▇▇▇▇▇▇▇▇▇▇▇▇▇▇▇▇▇▇▇▇▇▇▇▇▇▇▇▇▇\n",
      " 0.010 -  0.025: ▇▇▇▇▇▇▇▇▇▇▇▇▇▇▇▇▇▇▇▇▇▇▇▇▇▇▇▇▇▇▇▇▇▇▇▇▇▇▇▇▇▇▇▇▇▇▇▇▇▇▇▇▇▇▇▇▇▇▇▇▇▇▇▇▇▇▇▇▇▇▇▇▇▇▇▇▇▇▇▇▇▇▇▇▇▇▇▇▇▇▇▇▇▇▇▇▇▇▇▇\n",
      " 0.025 -  0.050: ▇▇▇▇▇▇▇▇▇▇▇▇▇▇▇▇▇▇▇▇▇▇▇▇▇▇▇▇▇▇▇▇▇▇▇▇▇▇▇▇▇▇▇▇▇▇▇▇▇▇▇▇▇▇▇▇▇▇▇▇▇▇▇▇▇▇▇▇▇▇▇▇▇▇▇\n",
      " 0.050 -  0.075: ▇▇▇▇▇▇▇▇▇▇▇▇▇▇▇▇▇▇▇▇▇▇▇▇▇▇▇▇▇▇▇▇▇▇\n",
      " 0.075 -  0.100: ▇▇▇▇▇▇▇▇▇▇▇▇▇▇▇▇▇▇▇▇\n",
      " 0.100 -  0.250: ▇▇▇▇▇▇▇▇▇▇▇▇▇▇▇▇▇▇▇▇▇▇▇▇▇▇▇▇▇▇▇▇▇▇▇▇▇▇▇▇▇▇▇\n",
      " 0.250 -  0.500: ▇▇▇▇▇▇▇▇▇▇▇▇▇▇\n",
      " 0.500 -  0.750: ▇▇▇▇▇\n",
      " 0.750 -  1.000: ▇▇\n",
      " 1.000 -  2.500: ▇▇\n",
      " 2.500 -  5.000: ▏\n",
      " 5.000 -  7.500: ▏\n",
      " 7.500 - 10.000: ▏\n",
      "10.000 -    inf: \n"
     ]
    }
   ],
   "source": [
    "max_width = 100\n",
    "block_value = max(b[1] for b in bucket_counts) / max_width\n",
    "prev_bound = 0.0\n",
    "for bound, count in bucket_counts:\n",
    "    bar = int(count / block_value) * '▇'\n",
    "    if count > 0 and not bar:\n",
    "        bar = '▏' # tiny block to indicate non-zero value\n",
    "    print('{:6.3f} - {:6.3f}: {}'.format(prev_bound, bound, bar))\n",
    "    prev_bound = bound"
   ]
  },
  {
   "cell_type": "code",
   "execution_count": null,
   "metadata": {
    "collapsed": true,
    "deletable": true,
    "editable": true
   },
   "outputs": [],
   "source": []
  }
 ],
 "metadata": {
  "kernelspec": {
   "display_name": "Python 3",
   "language": "python",
   "name": "python3"
  },
  "language_info": {
   "codemirror_mode": {
    "name": "ipython",
    "version": 3
   },
   "file_extension": ".py",
   "mimetype": "text/x-python",
   "name": "python",
   "nbconvert_exporter": "python",
   "pygments_lexer": "ipython3",
   "version": "3.6.0"
  }
 },
 "nbformat": 4,
 "nbformat_minor": 2
}
